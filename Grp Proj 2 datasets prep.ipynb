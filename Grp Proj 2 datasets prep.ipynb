{
 "cells": [
  {
   "cell_type": "markdown",
   "id": "e442b6cf",
   "metadata": {},
   "source": [
    "# Dataset Pipeline — Data Preparation Only\n",
    "This notebook prepares two original datasets:\n",
    "\n",
    "- **NYC Yellow Taxi Trips (2023)** via NYC Open Data API (`4b4i-vvec.json`) — predict high_tip (≥20%).\n",
    "- **Chicago Food Inspections** via Chicago Open Data API (`4ijn-s7e5.json`) — predict pass_binary (Pass vs Not Pass).\n",
    "\n",
    "Includes: API downloads, cleaning, feature engineering, EDA with matplotlib, dashboards, and Markdown summaries.\n"
   ]
  },
  {
   "cell_type": "code",
   "execution_count": null,
   "id": "c71eaec9",
   "metadata": {},
   "outputs": [],
   "source": [
    "import sys, platform, random\n",
    "import numpy as np, pandas as pd, matplotlib.pyplot as plt, requests\n",
    "np.random.seed(42); random.seed(42)\n",
    "print({'python': sys.version.split()[0], 'platform': platform.platform()})"
   ]
  },
  {
   "cell_type": "code",
   "execution_count": null,
   "id": "46c901a5",
   "metadata": {},
   "outputs": [],
   "source": [
    "from pathlib import Path\n",
    "Path(\"data\").mkdir(exist_ok=True)\n",
    "TLC_BASE = \"https://data.cityofnewyork.us/resource/4b4i-vvec.json\"\n",
    "params = {\"$limit\": 5000}\n",
    "rows = requests.get(TLC_BASE, params=params, timeout=60).json()\n",
    "taxi_raw = pd.DataFrame(rows)\n",
    "print(\"Taxi rows:\", taxi_raw.shape)\n",
    "taxi_raw.to_csv(\"data/taxi_raw_2023.csv\", index=False)"
   ]
  },
  {
   "cell_type": "code",
   "execution_count": null,
   "id": "c3e52cc2",
   "metadata": {},
   "outputs": [],
   "source": [
    "taxi = taxi_raw.copy()\n",
    "for c in [\"tpep_pickup_datetime\",\"tpep_dropoff_datetime\"]:\n",
    "    taxi[c] = pd.to_datetime(taxi[c], errors=\"coerce\")\n",
    "num_cols = [\"passenger_count\",\"trip_distance\",\"fare_amount\",\"tip_amount\",\"total_amount\"]\n",
    "for c in num_cols: taxi[c] = pd.to_numeric(taxi[c], errors=\"coerce\")\n",
    "taxi[\"duration_min\"] = (taxi[\"tpep_dropoff_datetime\"] - taxi[\"tpep_pickup_datetime\"]).dt.total_seconds()/60\n",
    "taxi = taxi[(taxi[\"trip_distance\"]>0.1)&(taxi[\"trip_distance\"]<50)&(taxi[\"duration_min\"]>=1)]\n",
    "taxi = taxi[taxi[\"payment_type\"]==\"1\"]\n",
    "taxi[\"speed_mph\"] = taxi[\"trip_distance\"]/(taxi[\"duration_min\"]/60)\n",
    "taxi[\"tip_percent\"] = taxi[\"tip_amount\"]/(taxi[\"fare_amount\"]+1e-6)\n",
    "taxi[\"hour\"] = taxi[\"tpep_pickup_datetime\"].dt.hour\n",
    "taxi[\"is_weekend\"] = taxi[\"tpep_pickup_datetime\"].dt.dayofweek.isin([5,6]).astype(int)\n",
    "taxi[\"high_tip\"] = (taxi[\"tip_percent\"]>=0.2).astype(int)\n",
    "print(\"Taxi cleaned:\", taxi.shape)\n",
    "taxi.head()"
   ]
  },
  {
   "cell_type": "code",
   "execution_count": null,
   "id": "e7d5f622",
   "metadata": {},
   "outputs": [],
   "source": [
    "fig, axes = plt.subplots(1,3,figsize=(12,3))\n",
    "axes[0].hist(taxi[\"trip_distance\"].dropna(), bins=40); axes[0].set_title(\"Trip Distance (miles)\")\n",
    "axes[1].hist(taxi[\"duration_min\"].dropna(), bins=40); axes[1].set_title(\"Trip Duration (minutes)\")\n",
    "axes[2].hist(taxi[\"tip_percent\"].dropna().clip(0,1), bins=40); axes[2].set_title(\"Tip % (clipped)\")\n",
    "plt.tight_layout(); plt.show()"
   ]
  },
  {
   "cell_type": "code",
   "execution_count": null,
   "id": "4be9d494",
   "metadata": {},
   "outputs": [],
   "source": [
    "CHI_BASE = \"https://data.cityofchicago.org/resource/4ijn-s7e5.json\"\n",
    "params = {\"$limit\": 5000}\n",
    "rows = requests.get(CHI_BASE, params=params, timeout=60).json()\n",
    "chi_raw = pd.DataFrame(rows)\n",
    "print(\"Chicago rows:\", chi_raw.shape)\n",
    "chi_raw.to_csv(\"data/chi_food_raw.csv\", index=False)"
   ]
  },
  {
   "cell_type": "code",
   "execution_count": null,
   "id": "ae2e1f0e",
   "metadata": {},
   "outputs": [],
   "source": [
    "import re\n",
    "chi = chi_raw.copy()\n",
    "chi[\"inspection_date\"] = pd.to_datetime(chi[\"inspection_date\"], errors=\"coerce\")\n",
    "chi[\"pass_binary\"] = (chi[\"results\"].astype(str).str.lower()==\"pass\").astype(int)\n",
    "chi[\"violation_count\"] = chi[\"violations\"].apply(lambda s: len(re.findall(r\"\\b\\d{2}\\.?\\d*\\b\", str(s))) if pd.notna(s) else 0)\n",
    "chi[\"viol_text_len\"] = chi[\"violations\"].fillna(\"\").str.len()\n",
    "chi[\"month\"] = chi[\"inspection_date\"].dt.month\n",
    "chi[\"risk_level\"] = chi[\"risk\"].astype(str).str.lower().map({\"risk 1 (high)\":1,\"risk 2 (medium)\":2,\"risk 3 (low)\":3})\n",
    "print(\"Chicago cleaned:\", chi.shape)\n",
    "chi.head()"
   ]
  },
  {
   "cell_type": "code",
   "execution_count": null,
   "id": "218e970c",
   "metadata": {},
   "outputs": [],
   "source": [
    "fig, axes = plt.subplots(1,2,figsize=(8,3))\n",
    "axes[0].hist(chi[\"violation_count\"], bins=30); axes[0].set_title(\"Violation Count\")\n",
    "axes[1].hist(chi[\"viol_text_len\"], bins=30); axes[1].set_title(\"Violation Text Length\")\n",
    "plt.tight_layout(); plt.show()"
   ]
  },
  {
   "cell_type": "markdown",
   "id": "2372dcb6",
   "metadata": {},
   "source": [
    "## 📊 Data Preparation Summary\n",
    "\n",
    "- **NYC Taxi:** Target = high_tip (≥20%). Features: duration, speed, tip %, hour, weekend flag, location freqs.  \n",
    "- **Chicago Inspections:** Target = pass_binary. Features: violation count, text length, risk level, month.  \n",
    "\n",
    "Both datasets are cleaned, explored, and saved as CSVs ready for modeling.\n",
    "\n",
    "### Slide Version\n",
    "- NYC Taxi: predict high tips (≥20%) from trip features.  \n",
    "- Chicago Inspections: predict Pass vs Not Pass from inspection records.  \n"
   ]
  }
 ],
 "metadata": {},
 "nbformat": 4,
 "nbformat_minor": 5
}
